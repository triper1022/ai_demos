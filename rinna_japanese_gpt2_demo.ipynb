{
  "cells": [
    {
      "cell_type": "markdown",
      "metadata": {
        "id": "q_SozNmyQBR_"
      },
      "source": [
        "GitHub \n",
        "https://github.com/rinnakk/japanese-pretrained-models   \n",
        "https://huggingface.co/rinna/japanese-gpt-1b  \n",
        "\n",
        "<a href=\"https://colab.research.google.com/github/kaz12tech/ai_demos/blob/master/rinna_japanese_gpt2_demo.ipynb\" target=\"_blank\"><img src=\"https://colab.research.google.com/assets/colab-badge.svg\" alt=\"Open In Colab\"/></a>"
      ]
    },
    {
      "cell_type": "markdown",
      "metadata": {},
      "source": [
        "# ランタイムの設定\n",
        "「ランタイム」→「ランタイムのタイプを変更」→「ハードウェアアクセラレータ」をGPUに変更"
      ]
    },
    {
      "cell_type": "markdown",
      "metadata": {},
      "source": [
        "# 実行方法\n",
        "「ランタイム」→「すべてのセルを実行」を選択"
      ]
    },
    {
      "cell_type": "markdown",
      "metadata": {
        "id": "HT-h6gYBPwdt"
      },
      "source": [
        "# ライブラリインストール"
      ]
    },
    {
      "cell_type": "code",
      "execution_count": null,
      "metadata": {
        "colab": {
          "base_uri": "https://localhost:8080/"
        },
        "id": "jOom59zQKnwk",
        "outputId": "e534c4ee-dc19-432d-a8f9-f55583e2572d"
      },
      "outputs": [],
      "source": [
        "# Huggingface Transformers\n",
        "!pip install transformers==4.16.0\n",
        "# Sentencepiece\n",
        "!pip install sentencepiece==0.1.96"
      ]
    },
    {
      "cell_type": "markdown",
      "metadata": {},
      "source": [
        "# トークナイザーとモデルのロード"
      ]
    },
    {
      "cell_type": "code",
      "execution_count": null,
      "metadata": {
        "id": "fTZE1zvMRlNQ"
      },
      "outputs": [],
      "source": [
        "import torch\n",
        "from transformers import T5Tokenizer, AutoModelForCausalLM\n",
        "import re\n",
        "\n",
        "# トークナイザーとモデルのロード\n",
        "tokenizer = T5Tokenizer.from_pretrained(\"rinna/japanese-gpt-1b\")\n",
        "model = AutoModelForCausalLM.from_pretrained(\"rinna/japanese-gpt-1b\")\n",
        "\n",
        "# GPU使用\n",
        "if torch.cuda.is_available():\n",
        "    model = model.to(\"cuda\")"
      ]
    },
    {
      "cell_type": "markdown",
      "metadata": {},
      "source": [
        "# 自問自答を定義"
      ]
    },
    {
      "cell_type": "code",
      "execution_count": null,
      "metadata": {
        "colab": {
          "base_uri": "https://localhost:8080/"
        },
        "id": "Nfw739YpU4G0",
        "outputId": "2f9e7264-862e-4f5a-d064-7d52ac5fafcb"
      },
      "outputs": [],
      "source": [
        "\n",
        "round_trip = 20 # 会話の往復回数\n",
        "topic = \"人間と人工知能はどうなっていくのだろうか。\"\n",
        "text = \"りんなちゃんの独り言。りんなちゃん:「おはよう私」りんなちゃん:「\" + topic + \"」りんなちゃん:「\"\n",
        "print(\"りんなちゃんの独り言。topic:\", topic)\n",
        "\n",
        "pos = 3 # 括弧の取得位置\n",
        "for round_num in range(round_trip):\n",
        "  token_ids = tokenizer.encode(text, add_special_tokens=False, return_tensors=\"pt\")\n",
        "  max_length = 100\n",
        "  if max_length < len(text):\n",
        "    max_length = len(text) + 30\n",
        "\n",
        "  # りんなちゃんのテキスト生成\n",
        "  with torch.no_grad():\n",
        "    output_ids = model.generate(\n",
        "        token_ids.to(model.device),\n",
        "        max_length=max_length,\n",
        "        min_length=50,\n",
        "        do_sample=True,\n",
        "        top_k=500,\n",
        "        top_p=0.95,\n",
        "        pad_token_id=tokenizer.pad_token_id,\n",
        "        bos_token_id=tokenizer.bos_token_id,\n",
        "        eos_token_id=tokenizer.eos_token_id,\n",
        "        bad_word_ids=[[tokenizer.unk_token_id]]\n",
        "        )\n",
        "  output = tokenizer.decode(output_ids.tolist()[0])\n",
        "  # 半角を全角に正規化\n",
        "  text = text.translate(str.maketrans({chr(0xFF01 + i): chr(0x21 + i) for i in range(94)}))\n",
        "\n",
        "  # りんなちゃんの先頭の独り言のみ取得\n",
        "  prefix = \"りんなちゃん:「\"\n",
        "  suffix = \"」\"\n",
        "  pre = output.split(prefix)\n",
        "  post = pre[pos].split(suffix)\n",
        "\n",
        "  # 」で閉じずにりんなちゃんが次の独り言を続けた場合に対処\n",
        "  if \"りんなちゃん:\" in post[0]:\n",
        "    post[0] = post[0].split(\"りんなちゃん:\")[0]\n",
        "  # 」で閉じずに終了した場合\n",
        "  if \"</s>\" in post[0]:\n",
        "    post[0] = post[0].replace(\"</s>\", \"\")\n",
        "\n",
        "  print(\"独り言\", str(round_num+1), \":\", post[0])\n",
        "  \n",
        "  # textに付加\n",
        "  text += post[0] + \"りんなちゃん:「\"\n",
        "\n",
        "  # 次回取得位置更新\n",
        "  pos += 1\n"
      ]
    }
  ],
  "metadata": {
    "accelerator": "GPU",
    "colab": {
      "collapsed_sections": [],
      "name": "rinna_japanese_gpt2_demo.ipynb",
      "provenance": []
    },
    "kernelspec": {
      "display_name": "Python 3",
      "name": "python3"
    },
    "language_info": {
      "name": "python"
    },
    "orig_nbformat": 4
  },
  "nbformat": 4,
  "nbformat_minor": 0
}
