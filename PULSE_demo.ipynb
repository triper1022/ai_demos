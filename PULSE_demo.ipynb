{
  "cells": [
    {
      "cell_type": "markdown",
      "metadata": {
        "id": "NSew58uU2oyC"
      },
      "source": [
        "論文 \n",
        "https://arxiv.org/abs/2003.03808v3  \n",
        "GitHub  \n",
        "https://github.com/adamian98/pulse  \n",
        "  \n",
        "<a href=\"https://colab.research.google.com/github/kaz12tech/ai_demos/blob/master/PULSE_demo.ipynb\" target=\"_blank\"><img src=\"https://colab.research.google.com/assets/colab-badge.svg\" alt=\"Open In Colab\"/></a>"
      ]
    },
    {
      "cell_type": "markdown",
      "metadata": {
        "id": "ftA7mrQJsOBt"
      },
      "source": [
        "# ランタイムの設定\n",
        "「ランタイム」→「ランタイムのタイプを変更」→「ハードウェアアクセラレータ」をGPUに変更"
      ]
    },
    {
      "cell_type": "markdown",
      "metadata": {
        "id": "wDuJqDVwsRcF"
      },
      "source": [
        "# 実行方法\n",
        "「ランタイム」→「すべてのセルを実行」を選択"
      ]
    },
    {
      "cell_type": "markdown",
      "metadata": {
        "id": "sMufIjRbluAc"
      },
      "source": [
        "# GitHubからPULSEのソースコードを取得"
      ]
    },
    {
      "cell_type": "code",
      "execution_count": null,
      "metadata": {
        "colab": {
          "base_uri": "https://localhost:8080/"
        },
        "id": "Yv7O-akQ2hwl",
        "outputId": "3e9c5f03-8600-4bad-ffc6-f1b8261311e8"
      },
      "outputs": [],
      "source": [
        "%cd /content/\n",
        "!git clone https://github.com/adamian98/pulse.git"
      ]
    },
    {
      "cell_type": "markdown",
      "metadata": {
        "id": "MsxcVXpvuLPf"
      },
      "source": [
        "# ライブラリのインストール"
      ]
    },
    {
      "cell_type": "code",
      "execution_count": null,
      "metadata": {
        "colab": {
          "base_uri": "https://localhost:8080/"
        },
        "id": "7QISAcE2uM06",
        "outputId": "89d0bf54-3b81-48ec-fba6-9ef560bdea55"
      },
      "outputs": [],
      "source": [
        "!apt install ffmpeg"
      ]
    },
    {
      "cell_type": "markdown",
      "metadata": {
        "id": "7ystQU99nlvp"
      },
      "source": [
        "# ライブラリのインポート"
      ]
    },
    {
      "cell_type": "code",
      "execution_count": null,
      "metadata": {
        "id": "no-cMgGGnjzc"
      },
      "outputs": [],
      "source": [
        "from google.colab import files\n",
        "import matplotlib.pyplot as plt\n",
        "from PIL import Image, ImageDraw\n",
        "import glob\n",
        "import os"
      ]
    },
    {
      "cell_type": "markdown",
      "metadata": {
        "id": "v9qTC5-Nmniq"
      },
      "source": [
        "# テスト画像のセットアップ"
      ]
    },
    {
      "cell_type": "code",
      "execution_count": null,
      "metadata": {
        "colab": {
          "base_uri": "https://localhost:8080/",
          "height": 527
        },
        "id": "BXT9hXUvmmkg",
        "outputId": "1005c15d-18aa-4532-f477-e1c740363432"
      },
      "outputs": [],
      "source": [
        "%cd /content/pulse\n",
        "\n",
        "!rm -rf ./org_img\n",
        "!mkdir ./org_img\n",
        "%cd /content/pulse/org_img\n",
        "\n",
        "image_type ='sample' #@param ['sample', 'upload']\n",
        "if image_type == 'sample':\n",
        "  !wget https://www.pakutaso.com/shared/img/thumb/YK0I9A6188_TP_V4.jpg\n",
        "  file_name = \"YK0I9A6188_TP_V4.jpg\"\n",
        "else:\n",
        "  uploaded = files.upload()\n",
        "  uploaded = list(uploaded.keys())\n",
        "  file_name = uploaded[0]\n"
      ]
    },
    {
      "cell_type": "markdown",
      "metadata": {
        "id": "Rd3ZxdPUqItx"
      },
      "source": [
        "# 低解像度顔画像生成\n",
        "16x16, 64x64, 128x128の3種を生成"
      ]
    },
    {
      "cell_type": "code",
      "execution_count": null,
      "metadata": {
        "colab": {
          "base_uri": "https://localhost:8080/",
          "height": 425
        },
        "id": "SdlZfJcfqYNn",
        "outputId": "5eef98d4-3721-4a05-acb8-312b8e0298bc"
      },
      "outputs": [],
      "source": [
        "%cd /content/pulse/\n",
        "# 顔部分を切り出した低解像度画像出力先\n",
        "img_align_16 = \"./img_align_16\"\n",
        "img_align_64 = \"./img_align_64\"\n",
        "img_align_128 = \"./img_align_128\"\n",
        "\n",
        "!rm -rf {img_align_16}\n",
        "!rm -rf {img_align_64}\n",
        "!rm -rf {img_align_128}\n",
        "\n",
        "# 16x16\n",
        "!python align_face.py \\\n",
        "  -input_dir ./org_img \\\n",
        "  -output_dir {img_align_16} \\\n",
        "  -output_size 16 \\\n",
        "  -seed 12 \\\n",
        "# 64x64\n",
        "!python align_face.py \\\n",
        "  -input_dir ./org_img \\\n",
        "  -output_dir {img_align_64} \\\n",
        "  -output_size 64 \\\n",
        "  -seed 12 \\\n",
        "# 128x128\n",
        "!python align_face.py \\\n",
        "  -input_dir ./org_img \\\n",
        "  -output_dir {img_align_128} \\\n",
        "  -output_size 128 \\\n",
        "  -seed 12 \\"
      ]
    },
    {
      "cell_type": "markdown",
      "metadata": {
        "id": "f4gmBx_U5iMO"
      },
      "source": [
        "## 低解像度顔画像の表示"
      ]
    },
    {
      "cell_type": "code",
      "execution_count": null,
      "metadata": {
        "colab": {
          "base_uri": "https://localhost:8080/",
          "height": 265
        },
        "id": "b-hG_9Qd12kZ",
        "outputId": "93ef103d-5497-4bd1-fa3a-f42625e546e0"
      },
      "outputs": [],
      "source": [
        "align_16 = glob.glob(img_align_16 + \"/*.png\") \n",
        "image_16 = Image.open(align_16[0]).convert(\"RGB\")\n",
        "align_64 = glob.glob(img_align_64 + \"/*.png\") \n",
        "image_64 = Image.open(align_64[0]).convert(\"RGB\")\n",
        "align_128 = glob.glob(img_align_128 + \"/*.png\") \n",
        "image_128 = Image.open(align_128[0]).convert(\"RGB\")\n",
        "\n",
        "fig = plt.figure(num=None, figsize=(12, 5))\n",
        "# 16x16\n",
        "ax = fig.add_subplot(1, 3, 1, xticks=[], yticks=[])\n",
        "plt.imshow(image_16)\n",
        "ax.set_title(\"16x16\")\n",
        "# 64x64\n",
        "ax = fig.add_subplot(1, 3, 2, xticks=[], yticks=[])\n",
        "plt.imshow(image_64)\n",
        "ax.set_title(\"64x64\")\n",
        "# 128x128\n",
        "ax = fig.add_subplot(1, 3, 3, xticks=[], yticks=[])\n",
        "plt.imshow(image_128)\n",
        "ax.set_title(\"128x128\")\n"
      ]
    },
    {
      "cell_type": "markdown",
      "metadata": {
        "id": "jYUshvhexPaG"
      },
      "source": [
        "# 超解像\n",
        "16x16, 64x64, 128x128の3種をそれぞれ1024x1024へ変換"
      ]
    },
    {
      "cell_type": "code",
      "execution_count": null,
      "metadata": {
        "colab": {
          "base_uri": "https://localhost:8080/"
        },
        "id": "Cu5k5nE-xXfO",
        "outputId": "87e8bb0a-b00d-49c5-af2f-ea0c9a130097"
      },
      "outputs": [],
      "source": [
        "%cd /content/pulse/\n",
        "img_sr_16 = \"./img_sr_16\"\n",
        "img_sr_64 = \"./img_sr_64\"\n",
        "img_sr_128 = \"./img_sr_128\"\n",
        "steps = 500\n",
        "\n",
        "!rm -rf {img_sr_16}\n",
        "!rm -rf {img_sr_64}\n",
        "!rm -rf {img_sr_128}\n",
        "\n",
        "# 16x16\n",
        "!python run.py \\\n",
        "  -input_dir {img_align_16} \\\n",
        "  -output_dir {img_sr_16} \\\n",
        "  -duplicates 1 \\\n",
        "  -seed 12 \\\n",
        "  -noise_type trainable \\\n",
        "  -steps {steps} \\\n",
        "  -save_intermediate\n",
        "# 64x64\n",
        "!python run.py \\\n",
        "  -input_dir {img_align_64} \\\n",
        "  -output_dir {img_sr_64} \\\n",
        "  -duplicates 1 \\\n",
        "  -seed 12 \\\n",
        "  -noise_type trainable \\\n",
        "  -steps {steps} \\\n",
        "  -save_intermediate\n",
        "# 128x128\n",
        "!python run.py \\\n",
        "  -input_dir {img_align_128} \\\n",
        "  -output_dir {img_sr_128} \\\n",
        "  -duplicates 1 \\\n",
        "  -seed 12 \\\n",
        "  -noise_type trainable \\\n",
        "  -steps {steps} \\\n",
        "  -save_intermediate"
      ]
    },
    {
      "cell_type": "markdown",
      "metadata": {
        "id": "eCp-0ASr-P2x"
      },
      "source": [
        "## 超解像結果の表示"
      ]
    },
    {
      "cell_type": "code",
      "execution_count": null,
      "metadata": {
        "colab": {
          "base_uri": "https://localhost:8080/",
          "height": 340
        },
        "id": "Dw6xgC7y2y0T",
        "outputId": "9cfd39bb-f992-49c2-c4fe-244393b26720"
      },
      "outputs": [],
      "source": [
        "file_name_wo_ext = os.path.splitext(os.path.basename(file_name))[0]\n",
        "sr_16_file_name = img_sr_16 + \"/\" + file_name_wo_ext + \"_0/HR/\" + file_name_wo_ext + \"_0_\" + str(steps-1) + \".png\"\n",
        "sr_64_file_name = img_sr_64 + \"/\" + file_name_wo_ext + \"_0/HR/\" + file_name_wo_ext + \"_0_\" + str(steps-1) + \".png\"\n",
        "sr_128_file_name = img_sr_128 + \"/\" + file_name_wo_ext + \"_0/HR/\" + file_name_wo_ext + \"_0_\" + str(steps-1) + \".png\"\n",
        "sr_image_16 = Image.open(sr_16_file_name).convert(\"RGB\")\n",
        "sr_image_64 = Image.open(sr_64_file_name).convert(\"RGB\")\n",
        "sr_image_128 = Image.open(sr_128_file_name).convert(\"RGB\")\n",
        "\n",
        "\n",
        "fig = plt.figure(num=None, figsize=(12, 5))\n",
        "# 16x16\n",
        "ax = fig.add_subplot(2, 3, 1, xticks=[], yticks=[])\n",
        "plt.imshow(image_16)\n",
        "ax.set_title(\"16x16\")\n",
        "ax = fig.add_subplot(2, 3, 4, xticks=[], yticks=[])\n",
        "plt.imshow(sr_image_16)\n",
        "ax.set_title(\"sr 16x16\")\n",
        "# 64x64\n",
        "ax = fig.add_subplot(2, 3, 2, xticks=[], yticks=[])\n",
        "plt.imshow(image_64)\n",
        "ax.set_title(\"64x64\")\n",
        "ax = fig.add_subplot(2, 3, 5, xticks=[], yticks=[])\n",
        "plt.imshow(sr_image_64)\n",
        "ax.set_title(\"sr 64x64\")\n",
        "ax = fig.add_subplot(2, 3, 3, xticks=[], yticks=[])\n",
        "plt.imshow(image_128)\n",
        "ax.set_title(\"128x128\")\n",
        "ax = fig.add_subplot(2, 3, 6, xticks=[], yticks=[])\n",
        "plt.imshow(sr_image_128)\n",
        "ax.set_title(\"sr 128x128\")"
      ]
    },
    {
      "cell_type": "markdown",
      "metadata": {
        "id": "7UiVCTaA_EGD"
      },
      "source": [
        "# テスト動画のセットアップ\n",
        "本レシピで使用している動画は下記です。  \n",
        "https://pixabay.com/ja/videos/%E6%84%9F%E6%83%85-%E7%94%B7%E6%80%A7%E3%82%92%E8%A6%8B-%E4%BA%BA%E9%96%93-%E4%BA%BA-44440/"
      ]
    },
    {
      "cell_type": "code",
      "execution_count": null,
      "metadata": {
        "colab": {
          "base_uri": "https://localhost:8080/",
          "height": 647,
          "resources": {
            "http://localhost:8080/nbextensions/google.colab/files.js": {
              "data": "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",
              "headers": [
                [
                  "content-type",
                  "application/javascript"
                ]
              ],
              "ok": true,
              "status": 200,
              "status_text": ""
            }
          }
        },
        "id": "xMrXZUpT6_If",
        "outputId": "d26e82e6-3b2b-475d-d9f2-a2f683aef3e1"
      },
      "outputs": [],
      "source": [
        "%cd /content/pulse\n",
        "!rm -rf ./origin_video\n",
        "!mkdir -p ./origin_video/frames\n",
        "%cd /content/pulse/origin_video\n",
        "\n",
        "uploaded = files.upload()\n",
        "uploaded = list(uploaded.keys())\n",
        "video_name = uploaded[0]\n",
        "\n",
        "from moviepy.editor import *\n",
        "from moviepy.video.fx.resize import resize\n",
        "\n",
        "clip = VideoFileClip(video_name)\n",
        "# 2~3秒までを切り出し\n",
        "sub_clip = clip.subclip(2, 3)\n",
        "sub_clip.write_videofile(\"src-video.mp4\")\n",
        "video_name = \"src-video.mp4\"\n",
        "\n",
        "# 表示用にリサイズ\n",
        "clip_resize = resize(sub_clip, height=240)\n",
        "clip_resize.ipython_display()"
      ]
    },
    {
      "cell_type": "markdown",
      "metadata": {
        "id": "-1kOPSM2_Hxp"
      },
      "source": [
        "# テスト動画をフレーム分割"
      ]
    },
    {
      "cell_type": "code",
      "execution_count": null,
      "metadata": {
        "colab": {
          "base_uri": "https://localhost:8080/"
        },
        "id": "0l02HbF__MRp",
        "outputId": "7d9204f1-b04e-465e-c925-1d8e4e7ad06e"
      },
      "outputs": [],
      "source": [
        "!ffmpeg -i {video_name} /content/pulse/origin_video/frames/src-video-frame-%d.png"
      ]
    },
    {
      "cell_type": "markdown",
      "metadata": {
        "id": "euz48SE1CBwK"
      },
      "source": [
        "# 低解像度顔画像生成"
      ]
    },
    {
      "cell_type": "code",
      "execution_count": null,
      "metadata": {
        "colab": {
          "base_uri": "https://localhost:8080/",
          "height": 863
        },
        "id": "i30hV_rrB5bV",
        "outputId": "67235437-91a8-40dd-c685-dfed01d007c5"
      },
      "outputs": [],
      "source": [
        "%cd /content/pulse/\n",
        "# 顔部分を切り出した低解像度画像出力先\n",
        "video_align_dir = \"./video_input_face\"\n",
        "\n",
        "!rm -rf {video_align_dir}\n",
        "\n",
        "!python align_face.py \\\n",
        "  -input_dir ./origin_video/frames \\\n",
        "  -output_dir {video_align_dir} \\\n",
        "  -output_size 64 \\\n",
        "  -seed 1234 \\\n",
        "\n",
        "video_align_imgs = glob.glob(video_align_dir + \"/*.png\") \n",
        "image = Image.open(video_align_imgs[0]).convert(\"RGB\")\n",
        "plt.figure(figsize=(6, 6))\n",
        "plt.imshow(image)"
      ]
    },
    {
      "cell_type": "markdown",
      "metadata": {
        "id": "j154b2r7LKEP"
      },
      "source": [
        "# 超解像(動画)\n",
        "64x64から1024x1024へ変換"
      ]
    },
    {
      "cell_type": "code",
      "execution_count": null,
      "metadata": {
        "colab": {
          "base_uri": "https://localhost:8080/"
        },
        "id": "hzQhV_kMJrLF",
        "outputId": "721d237d-4f17-4186-a1f3-602f637faa2d"
      },
      "outputs": [],
      "source": [
        "%cd /content/pulse/\n",
        "sr_video_result = \"./sr_video_result\"\n",
        "steps = 20\n",
        "\n",
        "!rm -rf {sr_video_result}\n",
        "\n",
        "!python run.py \\\n",
        "  -input_dir {video_align_dir} \\\n",
        "  -output_dir {sr_video_result} \\\n",
        "  -duplicates 1 \\\n",
        "  -seed 30 \\\n",
        "  -noise_type trainable \\\n",
        "  -steps {steps} \\\n",
        "  -save_intermediate"
      ]
    },
    {
      "cell_type": "markdown",
      "metadata": {
        "id": "-HlfuoUTsCXk"
      },
      "source": [
        "# frame画像を収集\n",
        "各フレーム画像の超解像結果を一つのディレクトリ配下にコピー"
      ]
    },
    {
      "cell_type": "code",
      "execution_count": null,
      "metadata": {
        "colab": {
          "base_uri": "https://localhost:8080/"
        },
        "id": "UQSDIOHMOom9",
        "outputId": "18b879bc-fbe9-4f94-f59b-68b7a169bf50"
      },
      "outputs": [],
      "source": [
        "%cd /content/pulse/\n",
        "sr_video_result_frames = sr_video_result + \"/frames\"\n",
        "!mkdir -p {sr_video_result_frames}\n",
        "\n",
        "results = glob.glob(sr_video_result + \"/*/HR/*_0_\" + str(steps-1) + \".png\")\n",
        "print(results)\n",
        "\n",
        "for result in results:\n",
        "  !cp {result} {sr_video_result_frames}\n"
      ]
    },
    {
      "cell_type": "markdown",
      "metadata": {
        "id": "OhK-GyIusTLm"
      },
      "source": [
        "# frame画像を動画に変換"
      ]
    },
    {
      "cell_type": "code",
      "execution_count": null,
      "metadata": {
        "colab": {
          "base_uri": "https://localhost:8080/",
          "height": 1000
        },
        "id": "pxa2aSi8rD_R",
        "outputId": "0d268bed-8da6-4342-8275-a909b1b36b39"
      },
      "outputs": [],
      "source": [
        "src_frames = sr_video_result_frames + \"/src-video-frame-%0d_0_\" + str(steps-1) + \".png\"\n",
        "dst_video = sr_video_result + \"/out.mp4\"\n",
        "\n",
        "!ffmpeg -i {src_frames} -c:v libx264 -vf \"fps=25,format=yuv420p\" {dst_video}\n",
        "\n",
        "clip = VideoFileClip(dst_video)\n",
        "\n",
        "# 表示用にリサイズ\n",
        "clip_resize = resize(clip, height=480)\n",
        "clip_resize.ipython_display()"
      ]
    }
  ],
  "metadata": {
    "accelerator": "GPU",
    "colab": {
      "collapsed_sections": [
        "ftA7mrQJsOBt",
        "wDuJqDVwsRcF"
      ],
      "name": "PULSE_demo.ipynb",
      "provenance": [],
      "toc_visible": true
    },
    "kernelspec": {
      "display_name": "Python 3",
      "name": "python3"
    },
    "language_info": {
      "name": "python"
    }
  },
  "nbformat": 4,
  "nbformat_minor": 0
}
