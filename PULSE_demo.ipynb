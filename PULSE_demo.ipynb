{
  "cells": [
    {
      "cell_type": "markdown",
      "metadata": {
        "id": "NSew58uU2oyC"
      },
      "source": [
        "論文 \n",
        "https://arxiv.org/abs/2003.03808v3  \n",
        "GitHub  \n",
        "https://github.com/adamian98/pulse  \n",
        "  \n",
        "<a href=\"https://colab.research.google.com/github/kaz12tech/ai_demos/blob/master/PULSE_demo.ipynb\" target=\"_blank\"><img src=\"https://colab.research.google.com/assets/colab-badge.svg\" alt=\"Open In Colab\"/></a>"
      ]
    },
    {
      "cell_type": "markdown",
      "metadata": {
        "id": "ftA7mrQJsOBt"
      },
      "source": [
        "# ランタイムの設定\n",
        "「ランタイム」→「ランタイムのタイプを変更」→「ハードウェアアクセラレータ」をGPUに変更"
      ]
    },
    {
      "cell_type": "markdown",
      "metadata": {
        "id": "wDuJqDVwsRcF"
      },
      "source": [
        "# 実行方法\n",
        "「ランタイム」→「すべてのセルを実行」を選択"
      ]
    },
    {
      "cell_type": "markdown",
      "metadata": {
        "id": "sMufIjRbluAc"
      },
      "source": [
        "# GitHubからPULSEのソースコードを取得"
      ]
    },
    {
      "cell_type": "code",
      "execution_count": null,
      "metadata": {
        "colab": {
          "base_uri": "https://localhost:8080/"
        },
        "id": "Yv7O-akQ2hwl",
        "outputId": "01a5f5f7-cb11-42f7-e352-63f42a0848e9"
      },
      "outputs": [],
      "source": [
        "%cd /content/\n",
        "!git clone https://github.com/adamian98/pulse.git"
      ]
    },
    {
      "cell_type": "markdown",
      "metadata": {
        "id": "7ystQU99nlvp"
      },
      "source": [
        "# ライブラリのインポート"
      ]
    },
    {
      "cell_type": "code",
      "execution_count": null,
      "metadata": {
        "id": "no-cMgGGnjzc"
      },
      "outputs": [],
      "source": [
        "from google.colab import files\n",
        "import matplotlib.pyplot as plt\n",
        "from PIL import Image, ImageDraw\n",
        "import glob\n",
        "import os"
      ]
    },
    {
      "cell_type": "markdown",
      "metadata": {
        "id": "v9qTC5-Nmniq"
      },
      "source": [
        "# テスト画像のセットアップ"
      ]
    },
    {
      "cell_type": "code",
      "execution_count": null,
      "metadata": {
        "colab": {
          "base_uri": "https://localhost:8080/",
          "height": 518
        },
        "id": "BXT9hXUvmmkg",
        "outputId": "757696f9-b7a6-44bf-90d1-c45e07583eba"
      },
      "outputs": [],
      "source": [
        "%cd /content/pulse\n",
        "!rm -rf ./origin\n",
        "!mkdir ./origin\n",
        "%cd /content/pulse/origin\n",
        "\n",
        "image_type ='sample' #@param ['sample', 'upload']\n",
        "if image_type == 'sample':\n",
        "  !wget https://www.pakutaso.com/shared/img/thumb/YK0I9A6188_TP_V4.jpg\n",
        "  file_name = \"YK0I9A6188_TP_V4.jpg\"\n",
        "else:\n",
        "  uploaded = files.upload()\n",
        "  uploaded = list(uploaded.keys())\n",
        "  file_name = uploaded[0]\n",
        "\n",
        "image = Image.open(file_name).convert(\"RGB\")\n",
        "plt.figure(figsize=(6, 6))\n",
        "plt.imshow(image)"
      ]
    },
    {
      "cell_type": "markdown",
      "metadata": {
        "id": "Rd3ZxdPUqItx"
      },
      "source": [
        "# 低解像度顔画像生成"
      ]
    },
    {
      "cell_type": "code",
      "execution_count": null,
      "metadata": {
        "colab": {
          "base_uri": "https://localhost:8080/",
          "height": 461
        },
        "id": "SdlZfJcfqYNn",
        "outputId": "464c6140-9c96-4f88-d1e5-71f1436d123a"
      },
      "outputs": [],
      "source": [
        "%cd /content/pulse/\n",
        "# 顔部分を切り出した低解像度画像出力先\n",
        "align_dir = \"./input_face\"\n",
        "\n",
        "!rm -rf {align_dir}\n",
        "\n",
        "!python align_face.py \\\n",
        "  -input_dir ./origin \\\n",
        "  -output_dir {align_dir} \\\n",
        "  -output_size 32 \\\n",
        "  -seed 1234 \\\n",
        "\n",
        "align_imgs = glob.glob(align_dir + \"/*.png\") \n",
        "image = Image.open(align_imgs[0]).convert(\"RGB\")\n",
        "plt.figure(figsize=(6, 6))\n",
        "plt.imshow(image)"
      ]
    },
    {
      "cell_type": "markdown",
      "metadata": {
        "id": "jYUshvhexPaG"
      },
      "source": [
        "# 超解像"
      ]
    },
    {
      "cell_type": "code",
      "execution_count": null,
      "metadata": {
        "colab": {
          "base_uri": "https://localhost:8080/"
        },
        "id": "Cu5k5nE-xXfO",
        "outputId": "f8f330ad-c7ce-439e-b7f6-7d114e17f0e1"
      },
      "outputs": [],
      "source": [
        "%cd /content/pulse/\n",
        "sr_result = \"./sr_result\"\n",
        "steps = 100\n",
        "\n",
        "!rm -rf {sr_result}\n",
        "\n",
        "!python run.py \\\n",
        "  -input_dir {align_dir} \\\n",
        "  -output_dir {sr_result} \\\n",
        "  -duplicates 1 \\\n",
        "  -seed 1234 \\\n",
        "  -noise_type trainable \\\n",
        "  -steps {steps} \\\n",
        "  -save_intermediate"
      ]
    },
    {
      "cell_type": "code",
      "execution_count": null,
      "metadata": {
        "colab": {
          "base_uri": "https://localhost:8080/",
          "height": 395
        },
        "id": "Dw6xgC7y2y0T",
        "outputId": "a2c3b468-abad-4766-e2b9-bf1c495a2ab9"
      },
      "outputs": [],
      "source": [
        "file_name_wo_ext = os.path.splitext(os.path.basename(file_name))[0]\n",
        "hr_file_name = sr_result + \"/\" + file_name_wo_ext + \"_0/HR/\" + file_name_wo_ext + \"_0_\" + str(steps-1) + \".png\"\n",
        "\n",
        "image = Image.open(hr_file_name).convert(\"RGB\")\n",
        "plt.figure(figsize=(6, 6))\n",
        "plt.imshow(image)"
      ]
    },
    {
      "cell_type": "markdown",
      "metadata": {
        "id": "7UiVCTaA_EGD"
      },
      "source": [
        "# テスト動画のセットアップ"
      ]
    },
    {
      "cell_type": "code",
      "execution_count": null,
      "metadata": {
        "colab": {
          "base_uri": "https://localhost:8080/",
          "height": 595
        },
        "id": "xMrXZUpT6_If",
        "outputId": "268b48eb-972f-4bcd-d13a-8bf43858c1c6"
      },
      "outputs": [],
      "source": [
        "%cd /content/pulse\n",
        "!rm -rf ./origin_video\n",
        "!mkdir -p ./origin_video/frames\n",
        "%cd /content/pulse/origin_video\n",
        "\n",
        "image_type ='sample' #@param ['sample', 'upload']\n",
        "if image_type == 'sample':\n",
        "  !wget https://vod-progressive.akamaized.net/exp=1644062740~acl=%2Fvimeo-prod-skyfire-std-us%2F01%2F4172%2F18%2F470864736%2F2095514120.mp4~hmac=25a8ca2e8e3028808e32b3a9fa323820cd8c3ca5e3000e8314a8d8454923b4e4/vimeo-prod-skyfire-std-us/01/4172/18/470864736/2095514120.mp4?download=1&filename=pexels-diva-plavalaguna-5664462.mp4\n",
        "  !mv 2095514120.mp4?download=1 2095514120.mp4\n",
        "  video_name = \"2095514120.mp4\"\n",
        "else:\n",
        "  uploaded = files.upload()\n",
        "  uploaded = list(uploaded.keys())\n",
        "  video_name = uploaded[0]\n",
        "\n",
        "from moviepy.editor import *\n",
        "from moviepy.video.fx.resize import resize\n",
        "\n",
        "clip = VideoFileClip(video_name)\n",
        "# 2~3秒までを切り出し\n",
        "sub_clip = clip.subclip(2, 3)\n",
        "sub_clip.write_videofile(\"src-video.mp4\")\n",
        "video_name = \"src-video.mp4\"\n",
        "\n",
        "# 表示用にリサイズ\n",
        "clip_resize = resize(sub_clip, height=120)\n",
        "clip_resize.ipython_display()"
      ]
    },
    {
      "cell_type": "markdown",
      "metadata": {
        "id": "-1kOPSM2_Hxp"
      },
      "source": [
        "# テスト動画をフレーム分割"
      ]
    },
    {
      "cell_type": "code",
      "execution_count": null,
      "metadata": {
        "colab": {
          "base_uri": "https://localhost:8080/"
        },
        "id": "0l02HbF__MRp",
        "outputId": "f21a2f2c-d3e0-4389-9e7f-d2e49b13aadd"
      },
      "outputs": [],
      "source": [
        "!ffmpeg -i {video_name} /content/pulse/origin_video/frames/src-video-frame-%d.png"
      ]
    },
    {
      "cell_type": "markdown",
      "metadata": {
        "id": "euz48SE1CBwK"
      },
      "source": [
        "# 低解像度顔画像生成"
      ]
    },
    {
      "cell_type": "code",
      "execution_count": null,
      "metadata": {
        "colab": {
          "base_uri": "https://localhost:8080/",
          "height": 860
        },
        "id": "i30hV_rrB5bV",
        "outputId": "af871025-8b76-426c-ddd7-bd904192e3f6"
      },
      "outputs": [],
      "source": [
        "%cd /content/pulse/\n",
        "# 顔部分を切り出した低解像度画像出力先\n",
        "video_align_dir = \"./video_input_face\"\n",
        "\n",
        "!rm -rf {video_align_dir}\n",
        "\n",
        "!python align_face.py \\\n",
        "  -input_dir ./origin_video/frames \\\n",
        "  -output_dir {video_align_dir} \\\n",
        "  -output_size 32 \\\n",
        "  -seed 1234 \\\n",
        "\n",
        "video_align_imgs = glob.glob(video_align_dir + \"/*.png\") \n",
        "image = Image.open(video_align_imgs[0]).convert(\"RGB\")\n",
        "plt.figure(figsize=(6, 6))\n",
        "plt.imshow(image)"
      ]
    },
    {
      "cell_type": "markdown",
      "metadata": {
        "id": "j154b2r7LKEP"
      },
      "source": [
        "# 超解像(動画)"
      ]
    },
    {
      "cell_type": "code",
      "execution_count": null,
      "metadata": {
        "colab": {
          "base_uri": "https://localhost:8080/"
        },
        "id": "hzQhV_kMJrLF",
        "outputId": "beb1dc2c-a76c-4cd4-a092-073827a3124c"
      },
      "outputs": [],
      "source": [
        "%cd /content/pulse/\n",
        "sr_video_result = \"./sr_video_result\"\n",
        "steps = 20\n",
        "\n",
        "!rm -rf {sr_video_result}\n",
        "\n",
        "!python run.py \\\n",
        "  -input_dir {video_align_dir} \\\n",
        "  -output_dir {sr_video_result} \\\n",
        "  -duplicates 1 \\\n",
        "  -seed 1234 \\\n",
        "  -noise_type trainable \\\n",
        "  -steps {steps} \\\n",
        "  -save_intermediate"
      ]
    },
    {
      "cell_type": "markdown",
      "metadata": {
        "id": "-HlfuoUTsCXk"
      },
      "source": [
        "# frame画像を収集\n",
        "各フレーム画像の超解像結果を一つのディレクトリ配下にコピー"
      ]
    },
    {
      "cell_type": "code",
      "execution_count": null,
      "metadata": {
        "colab": {
          "base_uri": "https://localhost:8080/"
        },
        "id": "UQSDIOHMOom9",
        "outputId": "ec4faadb-2a63-4418-be0e-63174454bda8"
      },
      "outputs": [],
      "source": [
        "%cd /content/pulse/\n",
        "sr_video_result_frames = sr_video_result + \"/frames\"\n",
        "!mkdir -p {sr_video_result_frames}\n",
        "\n",
        "results = glob.glob(sr_video_result + \"/*/HR/*_0_\" + str(steps-1) + \".png\")\n",
        "print(results)\n",
        "\n",
        "for result in results:\n",
        "  !cp {result} {sr_video_result_frames}\n"
      ]
    },
    {
      "cell_type": "markdown",
      "metadata": {
        "id": "OhK-GyIusTLm"
      },
      "source": [
        "# frame画像を動画に変換"
      ]
    },
    {
      "cell_type": "code",
      "execution_count": null,
      "metadata": {
        "colab": {
          "base_uri": "https://localhost:8080/",
          "height": 1000
        },
        "id": "pxa2aSi8rD_R",
        "outputId": "eb8b234d-b06a-4a8c-9b6b-e677582f8f6a"
      },
      "outputs": [],
      "source": [
        "src_frames = sr_video_result_frames + \"/src-video-frame-%0d_0_\" + str(steps-1) + \".png\"\n",
        "dst_video = sr_video_result + \"/out.mp4\"\n",
        "\n",
        "!ffmpeg -i {src_frames} -c:v libx264 -vf \"fps=25,format=yuv420p\" {dst_video}\n",
        "\n",
        "clip = VideoFileClip(dst_video)\n",
        "clip.ipython_display()"
      ]
    },
    {
      "cell_type": "code",
      "execution_count": null,
      "metadata": {
        "colab": {
          "base_uri": "https://localhost:8080/",
          "height": 1000
        },
        "id": "Z2Y_g6_0vCxv",
        "outputId": "d417bf2c-5120-4460-caa9-7122f2d05145"
      },
      "outputs": [],
      "source": [
        "orging_frames = video_align_dir + \"/src-video-frame-%0d_0.png\"\n",
        "dst_orgin_video = sr_video_result + \"/origin_out.mp4\"\n",
        "\n",
        "!ffmpeg -i {orging_frames} -c:v libx264 -vf \"fps=25,format=yuv420p\" {dst_orgin_video}\n",
        "\n",
        "clip = VideoFileClip(dst_orgin_video)\n",
        "clip_resize = resize(clip, height=128)\n",
        "clip_resize.ipython_display()"
      ]
    }
  ],
  "metadata": {
    "accelerator": "GPU",
    "colab": {
      "collapsed_sections": [
        "ftA7mrQJsOBt",
        "wDuJqDVwsRcF"
      ],
      "name": "PULSE_demo.ipynb",
      "provenance": [],
      "toc_visible": true
    },
    "kernelspec": {
      "display_name": "Python 3",
      "name": "python3"
    },
    "language_info": {
      "name": "python"
    }
  },
  "nbformat": 4,
  "nbformat_minor": 0
}
