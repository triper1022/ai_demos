{
  "cells": [
    {
      "cell_type": "markdown",
      "metadata": {
        "id": "J0n3pAbJ7F1J"
      },
      "source": [
        "論文  \n",
        "https://arxiv.org/abs/2112.01573  \n",
        "  \n",
        "GitHub  \n",
        "https://github.com/gnobitab/FuseDream  \n",
        "  \n",
        "<a href=\"https://colab.research.google.com/github/kaz12tech/ai_demos/blob/master/FuseDream_demo.ipynb\" target=\"_blank\"><img src=\"https://colab.research.google.com/assets/colab-badge.svg\" alt=\"Open In Colab\"/></a>"
      ]
    },
    {
      "cell_type": "markdown",
      "metadata": {
        "id": "6ZYY-p287F1P"
      },
      "source": [
        "# ランタイムの設定\n",
        "「ランタイム」→「ランタイムのタイプを変更」→「ハードウェアアクセラレータ」をGPUに変更"
      ]
    },
    {
      "cell_type": "markdown",
      "metadata": {
        "id": "hUT8dtXi7F1Q"
      },
      "source": [
        "# 実行方法\n",
        "「ランタイム」→「すべてのセルを実行」を選択"
      ]
    },
    {
      "cell_type": "code",
      "execution_count": null,
      "metadata": {
        "colab": {
          "base_uri": "https://localhost:8080/"
        },
        "id": "7CRFpbvbKfoR",
        "outputId": "95808090-7f9c-4ec4-9701-bbb6da7cae07"
      },
      "outputs": [],
      "source": [
        "!nvidia-smi"
      ]
    },
    {
      "cell_type": "markdown",
      "metadata": {
        "id": "hjTCYBV67F1Q"
      },
      "source": [
        "# GitHubからFuseDreamのソースコードを取得"
      ]
    },
    {
      "cell_type": "code",
      "execution_count": null,
      "metadata": {
        "colab": {
          "base_uri": "https://localhost:8080/"
        },
        "id": "-i9sMQA17F1R",
        "outputId": "3cb1f0ae-a101-4e40-e571-3017324ea72b"
      },
      "outputs": [],
      "source": [
        "%cd /content/\n",
        "\n",
        "!git clone https://github.com/gnobitab/FuseDream.git"
      ]
    },
    {
      "cell_type": "markdown",
      "metadata": {
        "id": "W5naDEug7F1T"
      },
      "source": [
        "# ライブラリのインストール"
      ]
    },
    {
      "cell_type": "code",
      "execution_count": null,
      "metadata": {
        "colab": {
          "base_uri": "https://localhost:8080/"
        },
        "id": "ego3-8xC7F1U",
        "outputId": "760b8291-19e5-45ae-f21d-b90d14f27a73"
      },
      "outputs": [],
      "source": [
        "!pip install ftfy regex tqdm numpy scipy h5py lpips==0.1.4\n",
        "!pip install git+https://github.com/openai/CLIP.git\n",
        "!pip install gdown"
      ]
    },
    {
      "cell_type": "markdown",
      "metadata": {
        "id": "BmxP_IG07F1V"
      },
      "source": [
        "# 学習済みモデルのダウンロード\n",
        "  \n",
        "biggan-256.pth, biggan-512.pthをダウンロード"
      ]
    },
    {
      "cell_type": "code",
      "execution_count": null,
      "metadata": {
        "colab": {
          "base_uri": "https://localhost:8080/"
        },
        "id": "hN9C-8yC7F1V",
        "outputId": "0bec46c0-a2c0-4628-f6b7-4b1e100a9d21"
      },
      "outputs": [],
      "source": [
        "%cd /content/FuseDream/BigGAN_utils/weights/\n",
        "\n",
        "!gdown 'https://drive.google.com/uc?id=17ymX6rhsgHDZw_g5XgAFW4xLSDocARCM'\n",
        "!gdown 'https://drive.google.com/uc?id=1sOZ9og9kJLsqMNhaDnPJgzVsBZQ1sjZ5'"
      ]
    },
    {
      "cell_type": "markdown",
      "metadata": {
        "id": "hkei96s17F1W"
      },
      "source": [
        "# ライブラリのインポート"
      ]
    },
    {
      "cell_type": "code",
      "execution_count": null,
      "metadata": {
        "colab": {
          "base_uri": "https://localhost:8080/"
        },
        "id": "Pwwe2dTK7F1X",
        "outputId": "909cbeb3-bd65-4388-82a0-81b432d0ec94"
      },
      "outputs": [],
      "source": [
        "%cd /content/FuseDream/\n",
        "\n",
        "import torch\n",
        "from tqdm import tqdm\n",
        "from torchvision.transforms import Compose, Resize, CenterCrop, ToTensor, Normalize\n",
        "import torchvision\n",
        "import BigGAN_utils.utils as utils\n",
        "import clip\n",
        "import torch.nn.functional as F\n",
        "from DiffAugment_pytorch import DiffAugment\n",
        "import numpy as np\n",
        "from fusedream_utils import FuseDreamBaseGenerator, get_G, save_image\n",
        "\n",
        "import os\n",
        "import sys\n",
        "from IPython import display"
      ]
    },
    {
      "cell_type": "markdown",
      "metadata": {
        "id": "ERCuKWDE7F1Y"
      },
      "source": [
        "# パラメータ設定\n",
        "SENTENCE  \n",
        "画像を生成するためのクエリテキスト  \n",
        "文の終わりに明示的にピリオド「.」を付けることで画像の品質を高めることができます。  \n",
        "  \n",
        "INIT_ITERS  \n",
        "初期化に使用する画像の数  \n",
        "論文中ではMと記載。M=INIT_ITERS*10。Default 1000  \n",
        "  \n",
        "OPT_ITERS  \n",
        "潜在変数を最適化するための反復回数  \n",
        "Default 1000  \n",
        "  \n",
        "NUM_BASIS  \n",
        "最適化で使用される基底画像  \n",
        "5, 10, 15から選択  \n",
        "  \n",
        "MODEL  \n",
        "使用するモデル  \n",
        "bigggan-256, biggan-512から選択  \n",
        "  \n",
        "SEED  \n",
        "ランダムシード  "
      ]
    },
    {
      "cell_type": "code",
      "execution_count": null,
      "metadata": {
        "id": "5vfrI05O7F1Y"
      },
      "outputs": [],
      "source": [
        "#@title パラメータ設定\n",
        "SENTENCE = \"A photo of winged dog.\" #@param {type:\"string\"}\n",
        "INIT_ITERS =  1000 #@param {type:\"number\"}\n",
        "OPT_ITERS = 1000 #@param {type:\"number\"}\n",
        "NUM_BASIS = 10 #@param {type:\"slider\", min:0, max:15, step:1}\n",
        "MODEL = \"biggan-256\" #@param [\"biggan-256\",\"biggan-512\"]\n",
        "SEED =  123#@param {type:\"number\"}\n",
        "\n",
        "sys.argv = [''] ### workaround to deal with the argparse in Jupyter"
      ]
    },
    {
      "cell_type": "markdown",
      "metadata": {
        "id": "-a6xo99H7F1Z"
      },
      "source": [
        "# 画像生成"
      ]
    },
    {
      "cell_type": "code",
      "execution_count": null,
      "metadata": {
        "colab": {
          "base_uri": "https://localhost:8080/"
        },
        "id": "odQlfRGp7F1Z",
        "outputId": "84d383cc-18ca-4c74-df25-9af843092a25"
      },
      "outputs": [],
      "source": [
        "%%time\n",
        "\n",
        "%cd /content/FuseDream/\n",
        "\n",
        "# 生成画像出力先\n",
        "if not os.path.exists('./results'):\n",
        "    os.mkdir('./results')\n",
        "\n",
        "# ランダムシード設定\n",
        "utils.seed_rng(SEED) \n",
        "\n",
        "sentence = SENTENCE\n",
        "\n",
        "print('Generating:', sentence)\n",
        "# Modelのビルド\n",
        "if MODEL == \"biggan-256\":\n",
        "    G, config = get_G(256) \n",
        "elif MODEL == \"biggan-512\":\n",
        "    G, config = get_G(512) \n",
        "else:\n",
        "    raise Exception('Model not supported')\n",
        "\n",
        "# 画像生成\n",
        "generator = FuseDreamBaseGenerator(G, config, 10) \n",
        "z_cllt, y_cllt = generator.generate_basis(sentence, init_iters=INIT_ITERS, num_basis=NUM_BASIS)\n",
        "\n",
        "z_cllt_save = torch.cat(z_cllt).cpu().numpy()\n",
        "y_cllt_save = torch.cat(y_cllt).cpu().numpy()\n",
        "# latent_noise=Trueの場合AugCLIPが高くなりますが、画質がわずかに低くなります。\n",
        "img, z, y = generator.optimize_clip_score(z_cllt, y_cllt, sentence, latent_noise=False, augment=True, opt_iters=OPT_ITERS, optimize_y=True)\n",
        "\n",
        "score = generator.measureAugCLIP(z, y, sentence, augment=True, num_samples=20)\n",
        "print('AugCLIP score:', score)\n",
        "\n",
        "result_file_name = 'results/fusedream_%s_seed_%d_score_%.4f.png'%(sentence, SEED, score)\n",
        "save_image(img, result_file_name)\n",
        "\n"
      ]
    },
    {
      "cell_type": "markdown",
      "metadata": {
        "id": "rrayWj2M7F1a"
      },
      "source": [
        "# 生成結果の表示"
      ]
    },
    {
      "cell_type": "code",
      "execution_count": null,
      "metadata": {
        "colab": {
          "base_uri": "https://localhost:8080/",
          "height": 273
        },
        "id": "CkzUEsle7F1a",
        "outputId": "f693ca5d-c6d7-4b7f-b4d8-d01cdb4dcb59"
      },
      "outputs": [],
      "source": [
        "display.display( display.Image(result_file_name) )"
      ]
    },
    {
      "cell_type": "markdown",
      "metadata": {
        "id": "IYplwtrVh9Pi"
      },
      "source": [
        "# BigSleepとの比較"
      ]
    },
    {
      "cell_type": "markdown",
      "metadata": {
        "id": "FIgnnUXxiDtw"
      },
      "source": [
        "## BigSleepのセットアップ"
      ]
    },
    {
      "cell_type": "code",
      "execution_count": null,
      "metadata": {
        "colab": {
          "base_uri": "https://localhost:8080/"
        },
        "id": "rhxYBFM_iXsa",
        "outputId": "d0e04be8-95c4-4661-e799-68e2c9396a67"
      },
      "outputs": [],
      "source": [
        "!pip install big-sleep --upgrade"
      ]
    },
    {
      "cell_type": "markdown",
      "metadata": {
        "id": "qwi4WfWdjNN4"
      },
      "source": [
        "## ライブラリのインポート"
      ]
    },
    {
      "cell_type": "code",
      "execution_count": null,
      "metadata": {
        "id": "8o3Qm8dSjQFY"
      },
      "outputs": [],
      "source": [
        "from tqdm.notebook import trange\n",
        "from IPython.display import Image, display\n",
        "\n",
        "from big_sleep import Imagine"
      ]
    },
    {
      "cell_type": "markdown",
      "metadata": {
        "id": "ww-LkwgIj_MB"
      },
      "source": [
        "## パラメータ設定"
      ]
    },
    {
      "cell_type": "code",
      "execution_count": null,
      "metadata": {
        "id": "G-QANCdOkDXB"
      },
      "outputs": [],
      "source": [
        "TEXT = SENTENCE\n",
        "SAVE_EVERY =  100 #@param {type:\"number\"}\n",
        "SAVE_PROGRESS = True \n",
        "LEARNING_RATE = 5e-2 \n",
        "ITERATIONS = 1000 #@param {type:\"number\"}\n",
        "SEED = SEED"
      ]
    },
    {
      "cell_type": "code",
      "execution_count": null,
      "metadata": {
        "colab": {
          "base_uri": "https://localhost:8080/",
          "height": 1000,
          "referenced_widgets": [
            "1b92e03af2974ab4a79947c7bc93f3d6",
            "942fea252dd841089b7f43574a33378c",
            "57c7578c2ae041538a26f4d1342f3634",
            "04989a9e36bf48aeb2ce73fdcde6e304",
            "cd89506eecb542918dc923aa634b0101",
            "5e316038d40e47d38192e012c9b2402a",
            "d2c03c157e3d4f8eaf8870cb9e3a702b",
            "7691ad9503f04712bea9e25b9514574c",
            "743f923174ba438486af576b3b998aa4",
            "d9dfe70b061b4dc2a9ebe7ac3f7138da",
            "f14f432ace9344bcbb9e114ac3a98250",
            "33f9e0ce451a404c98e7d334de6e6c9d",
            "fadb5da66f56410b815c2dbb29f8f331",
            "1cade8f19e4c4609a2f12214200fc851",
            "f3fa1d86255e40dd932ac928a70885b0",
            "8d0c72fa944d4d1288e35a11a5503aa4",
            "7bd2072f21ac45b69018ed51428e75ff",
            "85ee8511ec2043c4bd4deba95287c4fb",
            "c495f63278024995a715f9c1a6b92526",
            "b0d724a22d3a407e9a8bce53517c60fa",
            "f439e85498994c17b7ec4e8ce002e060",
            "d5d6206e12244956bb73cae62fb92343"
          ]
        },
        "id": "Tx7kU4vvjDVf",
        "outputId": "6e8bc985-ef22-4b38-e9da-8af8f3cb93dd"
      },
      "outputs": [],
      "source": [
        "%%time\n",
        "%cd /content/FuseDream/\n",
        "\n",
        "model = Imagine(\n",
        "    text = TEXT,\n",
        "    save_every = SAVE_EVERY,\n",
        "    lr = LEARNING_RATE,\n",
        "    iterations = ITERATIONS,\n",
        "    save_progress = SAVE_PROGRESS,\n",
        "    seed = SEED\n",
        ")\n",
        "\n",
        "for epoch in trange(20, desc = 'epochs'):\n",
        "    for i in trange(1000, desc = 'iteration'):\n",
        "        model.train_step(epoch, i)\n",
        "\n",
        "        if i == 0 or i % model.save_every != 0:\n",
        "            continue\n",
        "\n",
        "        filename = TEXT.replace(' ', '_')\n",
        "        image = Image(f'./{filename}.png')\n",
        "        display(image)"
      ]
    }
  ],
  "metadata": {
    "accelerator": "GPU",
    "colab": {
      "collapsed_sections": [],
      "name": "FuseDream_demo.ipynb",
      "provenance": []
    },
    "kernelspec": {
      "display_name": "Python 3",
      "name": "python3"
    },
    "language_info": {
      "name": "python"
    },
    "orig_nbformat": 4,
    "widgets": {
      "application/vnd.jupyter.widget-state+json": {
        "04989a9e36bf48aeb2ce73fdcde6e304": {
          "model_module": "@jupyter-widgets/controls",
          "model_module_version": "1.5.0",
          "model_name": "FloatProgressModel",
          "state": {
            "_dom_classes": [],
            "_model_module": "@jupyter-widgets/controls",
            "_model_module_version": "1.5.0",
            "_model_name": "FloatProgressModel",
            "_view_count": null,
            "_view_module": "@jupyter-widgets/controls",
            "_view_module_version": "1.5.0",
            "_view_name": "ProgressView",
            "bar_style": "",
            "description": "",
            "description_tooltip": null,
            "layout": "IPY_MODEL_743f923174ba438486af576b3b998aa4",
            "max": 20,
            "min": 0,
            "orientation": "horizontal",
            "style": "IPY_MODEL_7691ad9503f04712bea9e25b9514574c",
            "value": 0
          }
        },
        "1b92e03af2974ab4a79947c7bc93f3d6": {
          "model_module": "@jupyter-widgets/controls",
          "model_module_version": "1.5.0",
          "model_name": "HBoxModel",
          "state": {
            "_dom_classes": [],
            "_model_module": "@jupyter-widgets/controls",
            "_model_module_version": "1.5.0",
            "_model_name": "HBoxModel",
            "_view_count": null,
            "_view_module": "@jupyter-widgets/controls",
            "_view_module_version": "1.5.0",
            "_view_name": "HBoxView",
            "box_style": "",
            "children": [
              "IPY_MODEL_57c7578c2ae041538a26f4d1342f3634",
              "IPY_MODEL_04989a9e36bf48aeb2ce73fdcde6e304",
              "IPY_MODEL_cd89506eecb542918dc923aa634b0101"
            ],
            "layout": "IPY_MODEL_942fea252dd841089b7f43574a33378c"
          }
        },
        "1cade8f19e4c4609a2f12214200fc851": {
          "model_module": "@jupyter-widgets/controls",
          "model_module_version": "1.5.0",
          "model_name": "HTMLModel",
          "state": {
            "_dom_classes": [],
            "_model_module": "@jupyter-widgets/controls",
            "_model_module_version": "1.5.0",
            "_model_name": "HTMLModel",
            "_view_count": null,
            "_view_module": "@jupyter-widgets/controls",
            "_view_module_version": "1.5.0",
            "_view_name": "HTMLView",
            "description": "",
            "description_tooltip": null,
            "layout": "IPY_MODEL_85ee8511ec2043c4bd4deba95287c4fb",
            "placeholder": "​",
            "style": "IPY_MODEL_7bd2072f21ac45b69018ed51428e75ff",
            "value": "iteration:  34%"
          }
        },
        "33f9e0ce451a404c98e7d334de6e6c9d": {
          "model_module": "@jupyter-widgets/controls",
          "model_module_version": "1.5.0",
          "model_name": "HBoxModel",
          "state": {
            "_dom_classes": [],
            "_model_module": "@jupyter-widgets/controls",
            "_model_module_version": "1.5.0",
            "_model_name": "HBoxModel",
            "_view_count": null,
            "_view_module": "@jupyter-widgets/controls",
            "_view_module_version": "1.5.0",
            "_view_name": "HBoxView",
            "box_style": "",
            "children": [
              "IPY_MODEL_1cade8f19e4c4609a2f12214200fc851",
              "IPY_MODEL_f3fa1d86255e40dd932ac928a70885b0",
              "IPY_MODEL_8d0c72fa944d4d1288e35a11a5503aa4"
            ],
            "layout": "IPY_MODEL_fadb5da66f56410b815c2dbb29f8f331"
          }
        },
        "57c7578c2ae041538a26f4d1342f3634": {
          "model_module": "@jupyter-widgets/controls",
          "model_module_version": "1.5.0",
          "model_name": "HTMLModel",
          "state": {
            "_dom_classes": [],
            "_model_module": "@jupyter-widgets/controls",
            "_model_module_version": "1.5.0",
            "_model_name": "HTMLModel",
            "_view_count": null,
            "_view_module": "@jupyter-widgets/controls",
            "_view_module_version": "1.5.0",
            "_view_name": "HTMLView",
            "description": "",
            "description_tooltip": null,
            "layout": "IPY_MODEL_d2c03c157e3d4f8eaf8870cb9e3a702b",
            "placeholder": "​",
            "style": "IPY_MODEL_5e316038d40e47d38192e012c9b2402a",
            "value": "epochs:   0%"
          }
        },
        "5e316038d40e47d38192e012c9b2402a": {
          "model_module": "@jupyter-widgets/controls",
          "model_module_version": "1.5.0",
          "model_name": "DescriptionStyleModel",
          "state": {
            "_model_module": "@jupyter-widgets/controls",
            "_model_module_version": "1.5.0",
            "_model_name": "DescriptionStyleModel",
            "_view_count": null,
            "_view_module": "@jupyter-widgets/base",
            "_view_module_version": "1.2.0",
            "_view_name": "StyleView",
            "description_width": ""
          }
        },
        "743f923174ba438486af576b3b998aa4": {
          "model_module": "@jupyter-widgets/base",
          "model_module_version": "1.2.0",
          "model_name": "LayoutModel",
          "state": {
            "_model_module": "@jupyter-widgets/base",
            "_model_module_version": "1.2.0",
            "_model_name": "LayoutModel",
            "_view_count": null,
            "_view_module": "@jupyter-widgets/base",
            "_view_module_version": "1.2.0",
            "_view_name": "LayoutView",
            "align_content": null,
            "align_items": null,
            "align_self": null,
            "border": null,
            "bottom": null,
            "display": null,
            "flex": null,
            "flex_flow": null,
            "grid_area": null,
            "grid_auto_columns": null,
            "grid_auto_flow": null,
            "grid_auto_rows": null,
            "grid_column": null,
            "grid_gap": null,
            "grid_row": null,
            "grid_template_areas": null,
            "grid_template_columns": null,
            "grid_template_rows": null,
            "height": null,
            "justify_content": null,
            "justify_items": null,
            "left": null,
            "margin": null,
            "max_height": null,
            "max_width": null,
            "min_height": null,
            "min_width": null,
            "object_fit": null,
            "object_position": null,
            "order": null,
            "overflow": null,
            "overflow_x": null,
            "overflow_y": null,
            "padding": null,
            "right": null,
            "top": null,
            "visibility": null,
            "width": null
          }
        },
        "7691ad9503f04712bea9e25b9514574c": {
          "model_module": "@jupyter-widgets/controls",
          "model_module_version": "1.5.0",
          "model_name": "ProgressStyleModel",
          "state": {
            "_model_module": "@jupyter-widgets/controls",
            "_model_module_version": "1.5.0",
            "_model_name": "ProgressStyleModel",
            "_view_count": null,
            "_view_module": "@jupyter-widgets/base",
            "_view_module_version": "1.2.0",
            "_view_name": "StyleView",
            "bar_color": null,
            "description_width": ""
          }
        },
        "7bd2072f21ac45b69018ed51428e75ff": {
          "model_module": "@jupyter-widgets/controls",
          "model_module_version": "1.5.0",
          "model_name": "DescriptionStyleModel",
          "state": {
            "_model_module": "@jupyter-widgets/controls",
            "_model_module_version": "1.5.0",
            "_model_name": "DescriptionStyleModel",
            "_view_count": null,
            "_view_module": "@jupyter-widgets/base",
            "_view_module_version": "1.2.0",
            "_view_name": "StyleView",
            "description_width": ""
          }
        },
        "85ee8511ec2043c4bd4deba95287c4fb": {
          "model_module": "@jupyter-widgets/base",
          "model_module_version": "1.2.0",
          "model_name": "LayoutModel",
          "state": {
            "_model_module": "@jupyter-widgets/base",
            "_model_module_version": "1.2.0",
            "_model_name": "LayoutModel",
            "_view_count": null,
            "_view_module": "@jupyter-widgets/base",
            "_view_module_version": "1.2.0",
            "_view_name": "LayoutView",
            "align_content": null,
            "align_items": null,
            "align_self": null,
            "border": null,
            "bottom": null,
            "display": null,
            "flex": null,
            "flex_flow": null,
            "grid_area": null,
            "grid_auto_columns": null,
            "grid_auto_flow": null,
            "grid_auto_rows": null,
            "grid_column": null,
            "grid_gap": null,
            "grid_row": null,
            "grid_template_areas": null,
            "grid_template_columns": null,
            "grid_template_rows": null,
            "height": null,
            "justify_content": null,
            "justify_items": null,
            "left": null,
            "margin": null,
            "max_height": null,
            "max_width": null,
            "min_height": null,
            "min_width": null,
            "object_fit": null,
            "object_position": null,
            "order": null,
            "overflow": null,
            "overflow_x": null,
            "overflow_y": null,
            "padding": null,
            "right": null,
            "top": null,
            "visibility": null,
            "width": null
          }
        },
        "8d0c72fa944d4d1288e35a11a5503aa4": {
          "model_module": "@jupyter-widgets/controls",
          "model_module_version": "1.5.0",
          "model_name": "HTMLModel",
          "state": {
            "_dom_classes": [],
            "_model_module": "@jupyter-widgets/controls",
            "_model_module_version": "1.5.0",
            "_model_name": "HTMLModel",
            "_view_count": null,
            "_view_module": "@jupyter-widgets/controls",
            "_view_module_version": "1.5.0",
            "_view_name": "HTMLView",
            "description": "",
            "description_tooltip": null,
            "layout": "IPY_MODEL_d5d6206e12244956bb73cae62fb92343",
            "placeholder": "​",
            "style": "IPY_MODEL_f439e85498994c17b7ec4e8ce002e060",
            "value": " 336/1000 [36:36&lt;1:12:01,  6.51s/it]"
          }
        },
        "942fea252dd841089b7f43574a33378c": {
          "model_module": "@jupyter-widgets/base",
          "model_module_version": "1.2.0",
          "model_name": "LayoutModel",
          "state": {
            "_model_module": "@jupyter-widgets/base",
            "_model_module_version": "1.2.0",
            "_model_name": "LayoutModel",
            "_view_count": null,
            "_view_module": "@jupyter-widgets/base",
            "_view_module_version": "1.2.0",
            "_view_name": "LayoutView",
            "align_content": null,
            "align_items": null,
            "align_self": null,
            "border": null,
            "bottom": null,
            "display": null,
            "flex": null,
            "flex_flow": null,
            "grid_area": null,
            "grid_auto_columns": null,
            "grid_auto_flow": null,
            "grid_auto_rows": null,
            "grid_column": null,
            "grid_gap": null,
            "grid_row": null,
            "grid_template_areas": null,
            "grid_template_columns": null,
            "grid_template_rows": null,
            "height": null,
            "justify_content": null,
            "justify_items": null,
            "left": null,
            "margin": null,
            "max_height": null,
            "max_width": null,
            "min_height": null,
            "min_width": null,
            "object_fit": null,
            "object_position": null,
            "order": null,
            "overflow": null,
            "overflow_x": null,
            "overflow_y": null,
            "padding": null,
            "right": null,
            "top": null,
            "visibility": null,
            "width": null
          }
        },
        "b0d724a22d3a407e9a8bce53517c60fa": {
          "model_module": "@jupyter-widgets/base",
          "model_module_version": "1.2.0",
          "model_name": "LayoutModel",
          "state": {
            "_model_module": "@jupyter-widgets/base",
            "_model_module_version": "1.2.0",
            "_model_name": "LayoutModel",
            "_view_count": null,
            "_view_module": "@jupyter-widgets/base",
            "_view_module_version": "1.2.0",
            "_view_name": "LayoutView",
            "align_content": null,
            "align_items": null,
            "align_self": null,
            "border": null,
            "bottom": null,
            "display": null,
            "flex": null,
            "flex_flow": null,
            "grid_area": null,
            "grid_auto_columns": null,
            "grid_auto_flow": null,
            "grid_auto_rows": null,
            "grid_column": null,
            "grid_gap": null,
            "grid_row": null,
            "grid_template_areas": null,
            "grid_template_columns": null,
            "grid_template_rows": null,
            "height": null,
            "justify_content": null,
            "justify_items": null,
            "left": null,
            "margin": null,
            "max_height": null,
            "max_width": null,
            "min_height": null,
            "min_width": null,
            "object_fit": null,
            "object_position": null,
            "order": null,
            "overflow": null,
            "overflow_x": null,
            "overflow_y": null,
            "padding": null,
            "right": null,
            "top": null,
            "visibility": null,
            "width": null
          }
        },
        "c495f63278024995a715f9c1a6b92526": {
          "model_module": "@jupyter-widgets/controls",
          "model_module_version": "1.5.0",
          "model_name": "ProgressStyleModel",
          "state": {
            "_model_module": "@jupyter-widgets/controls",
            "_model_module_version": "1.5.0",
            "_model_name": "ProgressStyleModel",
            "_view_count": null,
            "_view_module": "@jupyter-widgets/base",
            "_view_module_version": "1.2.0",
            "_view_name": "StyleView",
            "bar_color": null,
            "description_width": ""
          }
        },
        "cd89506eecb542918dc923aa634b0101": {
          "model_module": "@jupyter-widgets/controls",
          "model_module_version": "1.5.0",
          "model_name": "HTMLModel",
          "state": {
            "_dom_classes": [],
            "_model_module": "@jupyter-widgets/controls",
            "_model_module_version": "1.5.0",
            "_model_name": "HTMLModel",
            "_view_count": null,
            "_view_module": "@jupyter-widgets/controls",
            "_view_module_version": "1.5.0",
            "_view_name": "HTMLView",
            "description": "",
            "description_tooltip": null,
            "layout": "IPY_MODEL_f14f432ace9344bcbb9e114ac3a98250",
            "placeholder": "​",
            "style": "IPY_MODEL_d9dfe70b061b4dc2a9ebe7ac3f7138da",
            "value": " 0/20 [00:00&lt;?, ?it/s]"
          }
        },
        "d2c03c157e3d4f8eaf8870cb9e3a702b": {
          "model_module": "@jupyter-widgets/base",
          "model_module_version": "1.2.0",
          "model_name": "LayoutModel",
          "state": {
            "_model_module": "@jupyter-widgets/base",
            "_model_module_version": "1.2.0",
            "_model_name": "LayoutModel",
            "_view_count": null,
            "_view_module": "@jupyter-widgets/base",
            "_view_module_version": "1.2.0",
            "_view_name": "LayoutView",
            "align_content": null,
            "align_items": null,
            "align_self": null,
            "border": null,
            "bottom": null,
            "display": null,
            "flex": null,
            "flex_flow": null,
            "grid_area": null,
            "grid_auto_columns": null,
            "grid_auto_flow": null,
            "grid_auto_rows": null,
            "grid_column": null,
            "grid_gap": null,
            "grid_row": null,
            "grid_template_areas": null,
            "grid_template_columns": null,
            "grid_template_rows": null,
            "height": null,
            "justify_content": null,
            "justify_items": null,
            "left": null,
            "margin": null,
            "max_height": null,
            "max_width": null,
            "min_height": null,
            "min_width": null,
            "object_fit": null,
            "object_position": null,
            "order": null,
            "overflow": null,
            "overflow_x": null,
            "overflow_y": null,
            "padding": null,
            "right": null,
            "top": null,
            "visibility": null,
            "width": null
          }
        },
        "d5d6206e12244956bb73cae62fb92343": {
          "model_module": "@jupyter-widgets/base",
          "model_module_version": "1.2.0",
          "model_name": "LayoutModel",
          "state": {
            "_model_module": "@jupyter-widgets/base",
            "_model_module_version": "1.2.0",
            "_model_name": "LayoutModel",
            "_view_count": null,
            "_view_module": "@jupyter-widgets/base",
            "_view_module_version": "1.2.0",
            "_view_name": "LayoutView",
            "align_content": null,
            "align_items": null,
            "align_self": null,
            "border": null,
            "bottom": null,
            "display": null,
            "flex": null,
            "flex_flow": null,
            "grid_area": null,
            "grid_auto_columns": null,
            "grid_auto_flow": null,
            "grid_auto_rows": null,
            "grid_column": null,
            "grid_gap": null,
            "grid_row": null,
            "grid_template_areas": null,
            "grid_template_columns": null,
            "grid_template_rows": null,
            "height": null,
            "justify_content": null,
            "justify_items": null,
            "left": null,
            "margin": null,
            "max_height": null,
            "max_width": null,
            "min_height": null,
            "min_width": null,
            "object_fit": null,
            "object_position": null,
            "order": null,
            "overflow": null,
            "overflow_x": null,
            "overflow_y": null,
            "padding": null,
            "right": null,
            "top": null,
            "visibility": null,
            "width": null
          }
        },
        "d9dfe70b061b4dc2a9ebe7ac3f7138da": {
          "model_module": "@jupyter-widgets/controls",
          "model_module_version": "1.5.0",
          "model_name": "DescriptionStyleModel",
          "state": {
            "_model_module": "@jupyter-widgets/controls",
            "_model_module_version": "1.5.0",
            "_model_name": "DescriptionStyleModel",
            "_view_count": null,
            "_view_module": "@jupyter-widgets/base",
            "_view_module_version": "1.2.0",
            "_view_name": "StyleView",
            "description_width": ""
          }
        },
        "f14f432ace9344bcbb9e114ac3a98250": {
          "model_module": "@jupyter-widgets/base",
          "model_module_version": "1.2.0",
          "model_name": "LayoutModel",
          "state": {
            "_model_module": "@jupyter-widgets/base",
            "_model_module_version": "1.2.0",
            "_model_name": "LayoutModel",
            "_view_count": null,
            "_view_module": "@jupyter-widgets/base",
            "_view_module_version": "1.2.0",
            "_view_name": "LayoutView",
            "align_content": null,
            "align_items": null,
            "align_self": null,
            "border": null,
            "bottom": null,
            "display": null,
            "flex": null,
            "flex_flow": null,
            "grid_area": null,
            "grid_auto_columns": null,
            "grid_auto_flow": null,
            "grid_auto_rows": null,
            "grid_column": null,
            "grid_gap": null,
            "grid_row": null,
            "grid_template_areas": null,
            "grid_template_columns": null,
            "grid_template_rows": null,
            "height": null,
            "justify_content": null,
            "justify_items": null,
            "left": null,
            "margin": null,
            "max_height": null,
            "max_width": null,
            "min_height": null,
            "min_width": null,
            "object_fit": null,
            "object_position": null,
            "order": null,
            "overflow": null,
            "overflow_x": null,
            "overflow_y": null,
            "padding": null,
            "right": null,
            "top": null,
            "visibility": null,
            "width": null
          }
        },
        "f3fa1d86255e40dd932ac928a70885b0": {
          "model_module": "@jupyter-widgets/controls",
          "model_module_version": "1.5.0",
          "model_name": "FloatProgressModel",
          "state": {
            "_dom_classes": [],
            "_model_module": "@jupyter-widgets/controls",
            "_model_module_version": "1.5.0",
            "_model_name": "FloatProgressModel",
            "_view_count": null,
            "_view_module": "@jupyter-widgets/controls",
            "_view_module_version": "1.5.0",
            "_view_name": "ProgressView",
            "bar_style": "",
            "description": "",
            "description_tooltip": null,
            "layout": "IPY_MODEL_b0d724a22d3a407e9a8bce53517c60fa",
            "max": 1000,
            "min": 0,
            "orientation": "horizontal",
            "style": "IPY_MODEL_c495f63278024995a715f9c1a6b92526",
            "value": 336
          }
        },
        "f439e85498994c17b7ec4e8ce002e060": {
          "model_module": "@jupyter-widgets/controls",
          "model_module_version": "1.5.0",
          "model_name": "DescriptionStyleModel",
          "state": {
            "_model_module": "@jupyter-widgets/controls",
            "_model_module_version": "1.5.0",
            "_model_name": "DescriptionStyleModel",
            "_view_count": null,
            "_view_module": "@jupyter-widgets/base",
            "_view_module_version": "1.2.0",
            "_view_name": "StyleView",
            "description_width": ""
          }
        },
        "fadb5da66f56410b815c2dbb29f8f331": {
          "model_module": "@jupyter-widgets/base",
          "model_module_version": "1.2.0",
          "model_name": "LayoutModel",
          "state": {
            "_model_module": "@jupyter-widgets/base",
            "_model_module_version": "1.2.0",
            "_model_name": "LayoutModel",
            "_view_count": null,
            "_view_module": "@jupyter-widgets/base",
            "_view_module_version": "1.2.0",
            "_view_name": "LayoutView",
            "align_content": null,
            "align_items": null,
            "align_self": null,
            "border": null,
            "bottom": null,
            "display": null,
            "flex": null,
            "flex_flow": null,
            "grid_area": null,
            "grid_auto_columns": null,
            "grid_auto_flow": null,
            "grid_auto_rows": null,
            "grid_column": null,
            "grid_gap": null,
            "grid_row": null,
            "grid_template_areas": null,
            "grid_template_columns": null,
            "grid_template_rows": null,
            "height": null,
            "justify_content": null,
            "justify_items": null,
            "left": null,
            "margin": null,
            "max_height": null,
            "max_width": null,
            "min_height": null,
            "min_width": null,
            "object_fit": null,
            "object_position": null,
            "order": null,
            "overflow": null,
            "overflow_x": null,
            "overflow_y": null,
            "padding": null,
            "right": null,
            "top": null,
            "visibility": null,
            "width": null
          }
        }
      }
    }
  },
  "nbformat": 4,
  "nbformat_minor": 0
}
