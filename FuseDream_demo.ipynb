{
  "cells": [
    {
      "cell_type": "markdown",
      "metadata": {
        "id": "J0n3pAbJ7F1J"
      },
      "source": [
        "論文  \n",
        "https://arxiv.org/abs/2112.01573  \n",
        "  \n",
        "GitHub  \n",
        "https://github.com/gnobitab/FuseDream  \n",
        "  \n",
        "<a href=\"https://colab.research.google.com/github/kaz12tech/ai_demos/blob/master/FuseDream_demo.ipynb\" target=\"_blank\"><img src=\"https://colab.research.google.com/assets/colab-badge.svg\" alt=\"Open In Colab\"/></a>"
      ]
    },
    {
      "cell_type": "markdown",
      "metadata": {
        "id": "6ZYY-p287F1P"
      },
      "source": [
        "# ランタイムの設定\n",
        "「ランタイム」→「ランタイムのタイプを変更」→「ハードウェアアクセラレータ」をGPUに変更"
      ]
    },
    {
      "cell_type": "markdown",
      "metadata": {
        "id": "hUT8dtXi7F1Q"
      },
      "source": [
        "# 実行方法\n",
        "「ランタイム」→「すべてのセルを実行」を選択"
      ]
    },
    {
      "cell_type": "code",
      "execution_count": null,
      "metadata": {
        "colab": {
          "base_uri": "https://localhost:8080/"
        },
        "id": "7CRFpbvbKfoR",
        "outputId": "5148a938-4785-458d-fd2c-4cfca0b0667d"
      },
      "outputs": [],
      "source": [
        "!nvidia-smi"
      ]
    },
    {
      "cell_type": "markdown",
      "metadata": {
        "id": "hjTCYBV67F1Q"
      },
      "source": [
        "# GitHubからFuseDreamのソースコードを取得"
      ]
    },
    {
      "cell_type": "code",
      "execution_count": null,
      "metadata": {
        "colab": {
          "base_uri": "https://localhost:8080/"
        },
        "id": "-i9sMQA17F1R",
        "outputId": "408819c6-ae25-4884-d9b7-f5187df7a017"
      },
      "outputs": [],
      "source": [
        "%cd /content/\n",
        "\n",
        "!git clone https://github.com/gnobitab/FuseDream.git"
      ]
    },
    {
      "cell_type": "markdown",
      "metadata": {
        "id": "W5naDEug7F1T"
      },
      "source": [
        "# ライブラリのインストール"
      ]
    },
    {
      "cell_type": "code",
      "execution_count": null,
      "metadata": {
        "colab": {
          "base_uri": "https://localhost:8080/"
        },
        "id": "ego3-8xC7F1U",
        "outputId": "f9346791-3700-4dee-c3db-7af3a2a37d88"
      },
      "outputs": [],
      "source": [
        "!pip install ftfy regex tqdm numpy scipy h5py lpips==0.1.4\n",
        "!pip install git+https://github.com/openai/CLIP.git\n",
        "!pip install gdown"
      ]
    },
    {
      "cell_type": "markdown",
      "metadata": {
        "id": "BmxP_IG07F1V"
      },
      "source": [
        "# 学習済みモデルのダウンロード\n",
        "  \n",
        "biggan-256.pth, biggan-512.pthをダウンロード"
      ]
    },
    {
      "cell_type": "code",
      "execution_count": null,
      "metadata": {
        "colab": {
          "base_uri": "https://localhost:8080/"
        },
        "id": "hN9C-8yC7F1V",
        "outputId": "8cb503d0-1f13-4060-e215-a8adbb1075c4"
      },
      "outputs": [],
      "source": [
        "%cd /content/FuseDream/BigGAN_utils/weights/\n",
        "\n",
        "!gdown 'https://drive.google.com/uc?id=17ymX6rhsgHDZw_g5XgAFW4xLSDocARCM'\n",
        "!gdown 'https://drive.google.com/uc?id=1sOZ9og9kJLsqMNhaDnPJgzVsBZQ1sjZ5'"
      ]
    },
    {
      "cell_type": "markdown",
      "metadata": {
        "id": "hkei96s17F1W"
      },
      "source": [
        "# ライブラリのインポート"
      ]
    },
    {
      "cell_type": "code",
      "execution_count": null,
      "metadata": {
        "colab": {
          "base_uri": "https://localhost:8080/"
        },
        "id": "Pwwe2dTK7F1X",
        "outputId": "10a0b114-e88b-48d1-a925-3c293377457b"
      },
      "outputs": [],
      "source": [
        "%cd /content/FuseDream/\n",
        "\n",
        "import torch\n",
        "from tqdm import tqdm\n",
        "from torchvision.transforms import Compose, Resize, CenterCrop, ToTensor, Normalize\n",
        "import torchvision\n",
        "import BigGAN_utils.utils as utils\n",
        "import clip\n",
        "import torch.nn.functional as F\n",
        "from DiffAugment_pytorch import DiffAugment\n",
        "import numpy as np\n",
        "from fusedream_utils import FuseDreamBaseGenerator, get_G, save_image\n",
        "\n",
        "import os\n",
        "import sys\n",
        "from IPython import display"
      ]
    },
    {
      "cell_type": "markdown",
      "metadata": {
        "id": "ERCuKWDE7F1Y"
      },
      "source": [
        "# パラメータ設定\n",
        "SENTENCE  \n",
        "画像を生成するためのクエリテキスト  \n",
        "文の終わりに明示的にピリオド「.」を付けることで画像の品質を高めることができます。  \n",
        "  \n",
        "INIT_ITERS  \n",
        "初期化に使用する画像の数  \n",
        "論文中ではMと記載。M=INIT_ITERS*10。Default 1000  \n",
        "  \n",
        "OPT_ITERS  \n",
        "潜在変数を最適化するための反復回数  \n",
        "Default 1000  \n",
        "  \n",
        "NUM_BASIS  \n",
        "最適化で使用される基底画像  \n",
        "5, 10, 15から選択  \n",
        "  \n",
        "MODEL  \n",
        "使用するモデル  \n",
        "bigggan-256, biggan-512から選択  \n",
        "  \n",
        "SEED  \n",
        "ランダムシード  "
      ]
    },
    {
      "cell_type": "code",
      "execution_count": null,
      "metadata": {
        "id": "5vfrI05O7F1Y"
      },
      "outputs": [],
      "source": [
        "#@title パラメータ\n",
        "SENTENCE = \"A photo of an old man reading a book.\" #@param {type:\"string\"}\n",
        "INIT_ITERS =  1000 #@param {type:\"number\"}\n",
        "OPT_ITERS = 1000 #@param {type:\"number\"}\n",
        "NUM_BASIS = 5 #@param [5, 10, 15]\n",
        "MODEL = \"biggan-256\" #@param [\"biggan-256\",\"biggan-512\"]\n",
        "SEED =  24#@param {type:\"number\"}\n",
        "\n",
        "sys.argv = [''] ### workaround to deal with the argparse in Jupyter"
      ]
    },
    {
      "cell_type": "markdown",
      "metadata": {
        "id": "-a6xo99H7F1Z"
      },
      "source": [
        "# 画像生成"
      ]
    },
    {
      "cell_type": "code",
      "execution_count": null,
      "metadata": {
        "colab": {
          "base_uri": "https://localhost:8080/"
        },
        "id": "odQlfRGp7F1Z",
        "outputId": "2324a16a-8942-4c6f-92fb-01d9e1988307"
      },
      "outputs": [],
      "source": [
        "%%time\n",
        "\n",
        "%cd /content/FuseDream/\n",
        "\n",
        "# 生成画像出力先\n",
        "if not os.path.exists('./results'):\n",
        "    os.mkdir('./results')\n",
        "\n",
        "# ランダムシード設定\n",
        "utils.seed_rng(SEED) \n",
        "\n",
        "sentence = SENTENCE\n",
        "\n",
        "print('Generating:', sentence)\n",
        "# Modelのビルド\n",
        "if MODEL == \"biggan-256\":\n",
        "    G, config = get_G(256) \n",
        "elif MODEL == \"biggan-512\":\n",
        "    G, config = get_G(512) \n",
        "else:\n",
        "    raise Exception('Model not supported')\n",
        "\n",
        "# 画像生成\n",
        "generator = FuseDreamBaseGenerator(G, config, 10) \n",
        "z_cllt, y_cllt = generator.generate_basis(sentence, init_iters=INIT_ITERS, num_basis=NUM_BASIS)\n",
        "\n",
        "z_cllt_save = torch.cat(z_cllt).cpu().numpy()\n",
        "y_cllt_save = torch.cat(y_cllt).cpu().numpy()\n",
        "# latent_noise=Trueの場合AugCLIPが高くなりますが、画質がわずかに低くなります。\n",
        "img, z, y = generator.optimize_clip_score(z_cllt, y_cllt, sentence, latent_noise=False, augment=True, opt_iters=OPT_ITERS, optimize_y=True)\n",
        "\n",
        "score = generator.measureAugCLIP(z, y, sentence, augment=True, num_samples=20)\n",
        "print('AugCLIP score:', score)\n",
        "\n",
        "result_file_name = 'results/fusedream_%s_seed_%d_score_%.4f.png'%(sentence, SEED, score)\n",
        "save_image(img, result_file_name)\n",
        "\n"
      ]
    },
    {
      "cell_type": "markdown",
      "metadata": {
        "id": "rrayWj2M7F1a"
      },
      "source": [
        "# 生成結果の表示"
      ]
    },
    {
      "cell_type": "code",
      "execution_count": null,
      "metadata": {
        "colab": {
          "base_uri": "https://localhost:8080/",
          "height": 273
        },
        "id": "CkzUEsle7F1a",
        "outputId": "d42a3f35-7228-4eb5-f47f-530778f61331"
      },
      "outputs": [],
      "source": [
        "display.display( display.Image(result_file_name) )"
      ]
    }
  ],
  "metadata": {
    "accelerator": "GPU",
    "colab": {
      "collapsed_sections": [],
      "name": "FuseDream_demo.ipynb",
      "provenance": []
    },
    "kernelspec": {
      "display_name": "Python 3",
      "name": "python3"
    },
    "language_info": {
      "name": "python"
    },
    "orig_nbformat": 4
  },
  "nbformat": 4,
  "nbformat_minor": 0
}
